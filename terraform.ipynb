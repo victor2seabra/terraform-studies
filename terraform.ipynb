{
 "cells": [
  {
   "cell_type": "markdown",
   "metadata": {},
   "source": [
    "# O que é?"
   ]
  },
  {
   "cell_type": "markdown",
   "metadata": {},
   "source": [
    "se trata de um serviço de infraestrutura como codigo (IaC)\n",
    "\n",
    "a vantagem de IaC é o controle de modo versionado e claro de como estão sendo criados, usados e alterados recursos, além do fato de permitir que mais de um usuário consiga lidar com uma arquitetura cloud, por exemplo, dando manutenção e assistência"
   ]
  },
  {
   "cell_type": "markdown",
   "metadata": {},
   "source": [
    "# Vantagens"
   ]
  },
  {
   "cell_type": "markdown",
   "metadata": {},
   "source": [
    "+ controle do ambiente\n",
    "\n",
    "+ define o ambiente de modo determinístico, isto é, os recursos escritos irão refletir a estrutura do ambiente diretamente. assim, no caso de, por exemplo, aumentar uma unidade de EC2 fazemos relativo a 0 unidades e não à quantidade existente atualmente no ambiente (como é feito em Ansible)"
   ]
  },
  {
   "cell_type": "markdown",
   "metadata": {},
   "source": [
    "# Desvantagens"
   ]
  },
  {
   "cell_type": "markdown",
   "metadata": {},
   "source": [
    "+ por depender de organização de pastas e arquivos o gerenciamento feito em equipes deve ser sempre alinhado para não haver conflitos de escrita de codigo e alterações inesperadas na arquitetura"
   ]
  },
  {
   "cell_type": "markdown",
   "metadata": {},
   "source": [
    "# Estrutura"
   ]
  },
  {
   "cell_type": "markdown",
   "metadata": {},
   "source": [
    "## Componentes de uma infraestrutura terraform"
   ]
  },
  {
   "cell_type": "markdown",
   "metadata": {},
   "source": [
    "+ environment/provider.tf\n",
    "\n",
    "    + backend\n",
    "\n",
    "+ environment/.tfstate\n",
    "\n",
    "+ environment/.tfvars\n",
    "\n",
    "+ environment/variables.tf\n",
    "\n",
    "+ environment/main.tf\n",
    "\n",
    "+ modules/\n",
    "\n",
    "+ modules/output.tf"
   ]
  },
  {
   "cell_type": "markdown",
   "metadata": {},
   "source": [
    "### provider.tf"
   ]
  },
  {
   "cell_type": "markdown",
   "metadata": {},
   "source": [
    "local onde providers serão definidos e salvos\n",
    "\n",
    "um provider se trata do responsável a **interagir com a API do serviço desejado**, no nosso caso AWS, permitindo realizar operações de **CRUD** (create, read, update e delete) sobre ele e seus recursos na linguagem HCL\n",
    "\n",
    "um exemplo de definição de provider é o abaixo\n",
    "\n",
    "```terraform\n",
    "terraform {\n",
    "  required_providers {\n",
    "    aws = {\n",
    "      source  = \"hashicorp/aws\"\n",
    "      version = \"~> 5.0\"\n",
    "    }\n",
    "  }\n",
    "}\n",
    "\n",
    "# Configure the AWS Provider\n",
    "provider \"aws\" {\n",
    "  region = \"us-east-1\"\n",
    "}\n",
    "```\n",
    "\n",
    "nesse trecho de codigo podemos ressaltar alguns pontos bem importantes como por exemplo: \n",
    "\n",
    "+ o provider \"hashicorp/aws\" foi criado usando o nome \"aws\"\n",
    "\n",
    "+ podemos fazer controle da versão usada como por exemplo >, >=, <, <=, = e ~> (sendo o ultimo significando que somente atualizações que não impactem a maior hierarquia de versões, nesse caso a major, sejam usadas, desse modo 5.1, 5.2, etc serão usadas sem problemas)\n",
    "\n",
    "+ em seguida temos a configuração do provider com por exemplo a região desejada que ele opere, cada particularidade é definida pelo provider em sua documentação, não seguindo um padrão bem definido de nomenclatura de variaveis de provider para provider"
   ]
  },
  {
   "cell_type": "markdown",
   "metadata": {},
   "source": [
    "#### aws provider"
   ]
  },
  {
   "cell_type": "markdown",
   "metadata": {},
   "source": [
    "para o provider da aws em particular podemos especificar os seguintes argumentos\n",
    "\n",
    "```terraform\n",
    "provider \"aws\" {\n",
    "  region                                     string /* pode ser encontrado de modo nativo pelo terraform em $HOME/.aws/config ou $HOME/.aws/credentials */\n",
    "  access_key                                 string  /* pode ser encontrado de modo nativo pelo terraform em $HOME/.aws/config ou $HOME/.aws/credentials */\n",
    "  secret_key                                 string /* pode ser encontrado de modo nativo pelo terraform em $HOME/.aws/config ou $HOME/.aws/credentials */\n",
    "  profile                                    string /* pode ser encontrado de modo nativo pelo terraform em $HOME/.aws/config ou $HOME/.aws/credentials */\n",
    "  shared_config_files                        list /* pode ser encontrado de modo nativo pelo terraform em $HOME/.aws/config ou $HOME/.aws/credentials */\n",
    "  shared_credentials_files                   list  /* pode ser encontrado de modo nativo pelo terraform em $HOME/.aws/config ou $HOME/.aws/credentials */\n",
    "  assume_role                                map[string]string\n",
    "  assume_role_with_web_identity              map[string]string\n",
    "}\n",
    "```\n",
    "\n",
    "+ profile (por padrão é default) usado para especificar um perfil nomeado\n",
    "\n",
    "+ shared_config_files e shared_credentials_files podem ser encontrados nas variaveis de ambiente `AWS_CONFIG_FILE` e `AWS_SHARED_CREDENTIALS_FILE` em situações onde valores nao sejam passados de modo explícito\n",
    "\n",
    "+ usando `assume_role` podemos fazer com que nosso provider da aws assuma um role para realizar as operações necessárias dentro do ambiente. isto pode ser feito de dois modos:\n",
    "\n",
    "  + usando um único role:\n",
    "\n",
    "  ```terraform\n",
    "  provider \"aws\" {\n",
    "    assume_role {\n",
    "      role_arn     = \"arn:aws:iam::123456789012:role/ROLE_NAME\"\n",
    "      session_name = \"SESSION_NAME\"\n",
    "      external_id  = \"EXTERNAL_ID\"\n",
    "    }\n",
    "  }\n",
    "  ```\n",
    "\n",
    "  + definindo mais de um role:\n",
    "\n",
    "  ```terraform\n",
    "  provider \"aws\" {\n",
    "    assume_role {\n",
    "      role_arn = \"arn:aws:iam::123456789012:role/INITIAL_ROLE_NAME\"\n",
    "    }\n",
    "    assume_role {\n",
    "      role_arn = \"arn:aws:iam::123456789012:role/FINAL_ROLE_NAME\"\n",
    "    }\n",
    "  }\n",
    "  ```\n",
    "\n",
    "+ o uso de `assume_role_with_web_identity` é feito quando possuimos uma credencial web e um ARN de role, desse modo o provider irá assumir as politicas desta role\n",
    "\n",
    "```terraform\n",
    "provider \"aws\" {\n",
    "  assume_role_with_web_identity {\n",
    "    role_arn                = \"arn:aws:iam::123456789012:role/ROLE_NAME\"\n",
    "    session_name            = \"SESSION_NAME\"\n",
    "    web_identity_token_file = \"/Users/tf_user/secrets/web-identity-token\"\n",
    "  }\n",
    "}\n",
    "```\n",
    "\n",
    "**mais detalhes sobre os argumentos do aws provider podem ser encontrados em https://registry.terraform.io/providers/hashicorp/aws/latest/docs**"
   ]
  },
  {
   "cell_type": "markdown",
   "metadata": {},
   "source": [
    "### .tfstate"
   ]
  },
  {
   "cell_type": "markdown",
   "metadata": {},
   "source": [
    "### .tfvars"
   ]
  },
  {
   "cell_type": "markdown",
   "metadata": {},
   "source": [
    "### main.tf"
   ]
  },
  {
   "cell_type": "markdown",
   "metadata": {},
   "source": [
    "### variables.tf"
   ]
  },
  {
   "cell_type": "markdown",
   "metadata": {},
   "source": [
    "### modules"
   ]
  },
  {
   "cell_type": "markdown",
   "metadata": {},
   "source": [
    "### output.tf"
   ]
  },
  {
   "cell_type": "markdown",
   "metadata": {},
   "source": [
    "## Componentes de um arquivo"
   ]
  },
  {
   "cell_type": "markdown",
   "metadata": {},
   "source": [
    "um arquivo terraform (.tf) é composto de blocks podendo eles serem dos seguintes tipos:\n",
    "\n",
    "+ resource\n",
    "\n",
    "+ data\n",
    "\n",
    "+ locals\n",
    "\n",
    "+ module"
   ]
  },
  {
   "cell_type": "markdown",
   "metadata": {},
   "source": [
    "### resource"
   ]
  },
  {
   "cell_type": "markdown",
   "metadata": {},
   "source": [
    "blocos como este sao usados na definição de recursos a serem criados no terraform\n",
    "\n",
    "eles possuem como estrutura a seguinte:\n",
    "\n",
    "```terraform\n",
    "resource \"<provider>_<recurso>\" \"<nome do recurso>\"  {\n",
    "        ...\n",
    "}\n",
    "```\n",
    "\n",
    "podemos referenciar um recurso passando parametros dele para outro recurso usando referencia implicita, isto é, quando fazemos uso da notação abaixo para \"linkar\" dois recursos sem declarar explicitamente (como feito quando usado depends_on)\n",
    "\n",
    "```terraform\n",
    "resource \"aws_instance\" \"ec2\" {\n",
    "        ...\n",
    "}\n",
    "\n",
    "resource \"aws_s3_bucket\" \"bucket\" {\n",
    "        x = aws_instance.ec2.name\n",
    "}\n",
    "```\n",
    "\n",
    "quando feita dependência implícita como no caso acima, ao executar `terraform apply` ou `terraform destroy`"
   ]
  },
  {
   "cell_type": "markdown",
   "metadata": {},
   "source": [
    "### data"
   ]
  },
  {
   "cell_type": "markdown",
   "metadata": {},
   "source": [
    "sao um tipos de resource que realiza somente a leitura de outros recursos, armazenando seu valor e permitindo a reutilização"
   ]
  },
  {
   "cell_type": "markdown",
   "metadata": {},
   "source": [
    "### locals"
   ]
  },
  {
   "cell_type": "markdown",
   "metadata": {},
   "source": [
    "sao variaveis que são acessiveis somente entro do arquivo tf onde são criadas, evitando repetição desnecessária e seguindo DRY (don't repeat yourself)"
   ]
  },
  {
   "cell_type": "markdown",
   "metadata": {},
   "source": [
    "### module"
   ]
  }
 ],
 "metadata": {
  "language_info": {
   "name": "python"
  }
 },
 "nbformat": 4,
 "nbformat_minor": 2
}
