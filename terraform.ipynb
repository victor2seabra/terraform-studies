{
 "cells": [
  {
   "cell_type": "markdown",
   "metadata": {},
   "source": [
    "# O que é?"
   ]
  },
  {
   "cell_type": "markdown",
   "metadata": {},
   "source": [
    "se trata de um serviço de infraestrutura como codigo (IaC)\n",
    "\n",
    "a vantagem de IaC é o controle de modo versionado e claro de como estão sendo criados, usados e alterados recursos, além do fato de permitir que mais de um usuário consiga lidar com uma arquitetura cloud, por exemplo, dando manutenção e assistência"
   ]
  },
  {
   "cell_type": "markdown",
   "metadata": {},
   "source": [
    "# Vantagens"
   ]
  },
  {
   "cell_type": "markdown",
   "metadata": {},
   "source": [
    "+ controle do ambiente\n",
    "\n",
    "+ define o ambiente de modo determinístico, isto é, os recursos escritos irão refletir a estrutura do ambiente diretamente. assim, no caso de, por exemplo, aumentar uma unidade de EC2 fazemos relativo a 0 unidades e não à quantidade existente atualmente no ambiente (como é feito em Ansible)"
   ]
  },
  {
   "cell_type": "markdown",
   "metadata": {},
   "source": [
    "# Desvantagens"
   ]
  },
  {
   "cell_type": "markdown",
   "metadata": {},
   "source": [
    "+ por depender de organização de pastas e arquivos o gerenciamento feito em equipes deve ser sempre alinhado para não haver conflitos de escrita de codigo e alterações inesperadas na arquitetura"
   ]
  },
  {
   "cell_type": "markdown",
   "metadata": {},
   "source": [
    "# Terraform CLI"
   ]
  },
  {
   "cell_type": "markdown",
   "metadata": {},
   "source": [
    "## terraform init"
   ]
  },
  {
   "cell_type": "markdown",
   "metadata": {},
   "source": [
    "tem como função realizar a instalação e configuração de providers, modules e backends para dar inicio ao desenvolvimento do apply\n",
    "\n",
    "este comando é **idempotente**, sendo assim, podendo ser executado a qualquer momento que não gerará impactos na arquitetura ou deploy\n",
    "\n",
    "**ele gera como resultado um arquivo .terraform.lock.hcl e uma pasta .terraform**\n",
    "\n",
    "a flag **-no-color** pode ser usada para omitir cores do terminal que podem corromper em, por exemplo, processos de automação\n",
    "\n",
    "a flag **-upgrade** faz com que atualizações de versões dos provider **alterem o dependency lock file** (.terraform.lock.hcl)"
   ]
  },
  {
   "cell_type": "markdown",
   "metadata": {},
   "source": [
    "## terraform validate"
   ]
  },
  {
   "cell_type": "markdown",
   "metadata": {},
   "source": [
    "realiza a validação de configurações"
   ]
  },
  {
   "cell_type": "markdown",
   "metadata": {},
   "source": [
    "## terraform plan"
   ]
  },
  {
   "cell_type": "markdown",
   "metadata": {},
   "source": [
    "mostra as alterações que serão realizadas ao executar um eventual apply"
   ]
  },
  {
   "cell_type": "markdown",
   "metadata": {},
   "source": [
    "## terraform apply"
   ]
  },
  {
   "cell_type": "markdown",
   "metadata": {},
   "source": [
    "realiza a criação ou atualização dos recursos presentes no ambiente onde ele é performado"
   ]
  },
  {
   "cell_type": "markdown",
   "metadata": {},
   "source": [
    "## terraform destroy"
   ]
  },
  {
   "cell_type": "markdown",
   "metadata": {},
   "source": [
    "realiza a destruição de recursos ou outros componentes da arquitetura"
   ]
  },
  {
   "cell_type": "markdown",
   "metadata": {},
   "source": [
    "## terraform console"
   ]
  },
  {
   "cell_type": "markdown",
   "metadata": {},
   "source": [
    "permite acessar um comando interativo para executar comandos terraform"
   ]
  },
  {
   "cell_type": "markdown",
   "metadata": {},
   "source": [
    "## terraform fmt"
   ]
  },
  {
   "cell_type": "markdown",
   "metadata": {},
   "source": [
    "realiza a formataçação do código de modo automático\n",
    "\n",
    "**podemos formatar todos os codigos numa estrutura de pastas passando a flag -recursive**"
   ]
  },
  {
   "cell_type": "markdown",
   "metadata": {},
   "source": [
    "## terraform force-unlock"
   ]
  },
  {
   "cell_type": "markdown",
   "metadata": {},
   "source": [
    "## terraform get"
   ]
  },
  {
   "cell_type": "markdown",
   "metadata": {},
   "source": [
    "realiza o download ou update de modulos terraform remotos"
   ]
  },
  {
   "cell_type": "markdown",
   "metadata": {},
   "source": [
    "## terraform graph"
   ]
  },
  {
   "cell_type": "markdown",
   "metadata": {},
   "source": [
    "gera um grafo do Graphviz a respeito das etapas de operação"
   ]
  },
  {
   "cell_type": "markdown",
   "metadata": {},
   "source": [
    "## terraform import"
   ]
  },
  {
   "cell_type": "markdown",
   "metadata": {},
   "source": [
    "faz com que um recurso terraform seja associado a um recurso previamente criado sem IaC"
   ]
  },
  {
   "cell_type": "markdown",
   "metadata": {},
   "source": [
    "## terraform login"
   ]
  },
  {
   "cell_type": "markdown",
   "metadata": {},
   "source": [
    "## terraform logout"
   ]
  },
  {
   "cell_type": "markdown",
   "metadata": {},
   "source": [
    "## terraform metadata"
   ]
  },
  {
   "cell_type": "markdown",
   "metadata": {},
   "source": [
    "permite operar usando comandos de metadados"
   ]
  },
  {
   "cell_type": "markdown",
   "metadata": {},
   "source": [
    "## terraform modules"
   ]
  },
  {
   "cell_type": "markdown",
   "metadata": {},
   "source": [
    "## terraform output"
   ]
  },
  {
   "cell_type": "markdown",
   "metadata": {},
   "source": [
    "## terraform providers"
   ]
  },
  {
   "cell_type": "markdown",
   "metadata": {},
   "source": [
    "## terraform refresh"
   ]
  },
  {
   "cell_type": "markdown",
   "metadata": {},
   "source": [
    "realiza o update do state para que este esteja de acordo com sistemas remotos"
   ]
  },
  {
   "cell_type": "markdown",
   "metadata": {},
   "source": [
    "## terraform show"
   ]
  },
  {
   "cell_type": "markdown",
   "metadata": {},
   "source": [
    "exibe o state atual ou um plan salvo"
   ]
  },
  {
   "cell_type": "markdown",
   "metadata": {},
   "source": [
    "## terraform state"
   ]
  },
  {
   "cell_type": "markdown",
   "metadata": {},
   "source": [
    "permite fazer gerenciamente avançado sobre os states"
   ]
  },
  {
   "cell_type": "markdown",
   "metadata": {},
   "source": [
    "## terraform taint"
   ]
  },
  {
   "cell_type": "markdown",
   "metadata": {},
   "source": [
    "marca um recurso como não-completamente funcional"
   ]
  },
  {
   "cell_type": "markdown",
   "metadata": {},
   "source": [
    "## terraform test"
   ]
  },
  {
   "cell_type": "markdown",
   "metadata": {},
   "source": [
    "realiza testes de integração para os modulos terraform"
   ]
  },
  {
   "cell_type": "markdown",
   "metadata": {},
   "source": [
    "## terraform untaint"
   ]
  },
  {
   "cell_type": "markdown",
   "metadata": {},
   "source": [
    "remove a marcação do recurso que antes nao funcionava completamente"
   ]
  },
  {
   "cell_type": "markdown",
   "metadata": {},
   "source": [
    "## terraform version"
   ]
  },
  {
   "cell_type": "markdown",
   "metadata": {},
   "source": [
    "## terraform workspace"
   ]
  },
  {
   "cell_type": "markdown",
   "metadata": {},
   "source": [
    "permite realizar o gerenciamento do workspace"
   ]
  },
  {
   "cell_type": "markdown",
   "metadata": {},
   "source": [
    "# Estrutura"
   ]
  },
  {
   "cell_type": "markdown",
   "metadata": {},
   "source": [
    "## Componentes de uma infraestrutura terraform"
   ]
  },
  {
   "cell_type": "markdown",
   "metadata": {},
   "source": [
    "+ environment/provider.tf\n",
    "\n",
    "    + state\n",
    "\n",
    "    + backend\n",
    "\n",
    "+ enviroment/.terraform.lock.hcl\n",
    "\n",
    "+ enviroment/.terraform/\n",
    "\n",
    "+ environment/.tfstate\n",
    "\n",
    "+ environment/.tfvars\n",
    "\n",
    "+ environment/variables.tf\n",
    "\n",
    "+ environment/main.tf\n",
    "\n",
    "+ modules/\n",
    "\n",
    "+ modules/output.tf"
   ]
  },
  {
   "cell_type": "markdown",
   "metadata": {},
   "source": [
    "### provider.tf"
   ]
  },
  {
   "cell_type": "markdown",
   "metadata": {},
   "source": [
    "local onde providers serão definidos e salvos\n",
    "\n",
    "um provider se trata do responsável a **interagir com a API do serviço desejado**, no nosso caso AWS, permitindo realizar operações de **CRUD** (create, read, update e delete) sobre ele e seus recursos na linguagem HCL\n",
    "\n",
    "um exemplo de definição de provider é o abaixo\n",
    "\n",
    "```terraform\n",
    "terraform {\n",
    "  required_providers {\n",
    "    aws = {\n",
    "      source  = \"hashicorp/aws\"\n",
    "      version = \"~> 5.0\"\n",
    "    }\n",
    "  }\n",
    "}\n",
    "\n",
    "# Configure the AWS Provider\n",
    "provider \"aws\" {\n",
    "  region = \"us-east-1\"\n",
    "}\n",
    "```\n",
    "\n",
    "nesse trecho de codigo podemos ressaltar alguns pontos bem importantes como por exemplo: \n",
    "\n",
    "+ o provider \"hashicorp/aws\" foi criado usando o nome \"aws\"\n",
    "\n",
    "+ podemos fazer controle da versão usada como por exemplo >, >=, <, <=, =, ~> (sendo o ultimo significando que somente atualizações que não impactem a maior hierarquia de versões, nesse caso a major, sejam usadas, desse modo 5.1, 5.2, etc serão usadas sem problemas; denominado de **pessimistic constraint**) e != (exclui uma versão especifica)\n",
    "\n",
    "+ em seguida temos a configuração do provider com por exemplo a região desejada que ele opere, cada particularidade é definida pelo provider em sua documentação, não seguindo um padrão bem definido de nomenclatura de variaveis de provider para provider"
   ]
  },
  {
   "cell_type": "markdown",
   "metadata": {},
   "source": [
    "#### aws provider"
   ]
  },
  {
   "cell_type": "markdown",
   "metadata": {},
   "source": [
    "para o provider da aws em particular podemos especificar os seguintes argumentos\n",
    "\n",
    "```terraform\n",
    "provider \"aws\" {\n",
    "  region                                     string /* pode ser encontrado de modo nativo pelo terraform em $HOME/.aws/config ou $HOME/.aws/credentials */\n",
    "  access_key                                 string  /* pode ser encontrado de modo nativo pelo terraform em $HOME/.aws/config ou $HOME/.aws/credentials */\n",
    "  secret_key                                 string /* pode ser encontrado de modo nativo pelo terraform em $HOME/.aws/config ou $HOME/.aws/credentials */\n",
    "  profile                                    string /* pode ser encontrado de modo nativo pelo terraform em $HOME/.aws/config ou $HOME/.aws/credentials */\n",
    "  shared_config_files                        list /* pode ser encontrado de modo nativo pelo terraform em $HOME/.aws/config ou $HOME/.aws/credentials */\n",
    "  shared_credentials_files                   list  /* pode ser encontrado de modo nativo pelo terraform em $HOME/.aws/config ou $HOME/.aws/credentials */\n",
    "  assume_role                                map[string]string\n",
    "  assume_role_with_web_identity              map[string]string\n",
    "}\n",
    "```\n",
    "\n",
    "+ profile (por padrão é default) usado para especificar um perfil nomeado\n",
    "\n",
    "+ shared_config_files e shared_credentials_files podem ser encontrados nas variaveis de ambiente `AWS_CONFIG_FILE` e `AWS_SHARED_CREDENTIALS_FILE` em situações onde valores nao sejam passados de modo explícito\n",
    "\n",
    "+ usando `assume_role` podemos fazer com que nosso provider da aws assuma um role para realizar as operações necessárias dentro do ambiente. isto pode ser feito de dois modos:\n",
    "\n",
    "  + usando um único role:\n",
    "\n",
    "  ```terraform\n",
    "  provider \"aws\" {\n",
    "    assume_role {\n",
    "      role_arn     = \"arn:aws:iam::123456789012:role/ROLE_NAME\"\n",
    "      session_name = \"SESSION_NAME\"\n",
    "      external_id  = \"EXTERNAL_ID\"\n",
    "    }\n",
    "  }\n",
    "  ```\n",
    "\n",
    "  + definindo mais de um role:\n",
    "\n",
    "  ```terraform\n",
    "  provider \"aws\" {\n",
    "    assume_role {\n",
    "      role_arn = \"arn:aws:iam::123456789012:role/INITIAL_ROLE_NAME\"\n",
    "    }\n",
    "    assume_role {\n",
    "      role_arn = \"arn:aws:iam::123456789012:role/FINAL_ROLE_NAME\"\n",
    "    }\n",
    "  }\n",
    "  ```\n",
    "\n",
    "+ o uso de `assume_role_with_web_identity` é feito quando possuimos uma credencial web e um ARN de role, desse modo o provider irá assumir as politicas desta role\n",
    "\n",
    "```terraform\n",
    "provider \"aws\" {\n",
    "  assume_role_with_web_identity {\n",
    "    role_arn                = \"arn:aws:iam::123456789012:role/ROLE_NAME\"\n",
    "    session_name            = \"SESSION_NAME\"\n",
    "    web_identity_token_file = \"/Users/tf_user/secrets/web-identity-token\"\n",
    "  }\n",
    "}\n",
    "```\n",
    "\n",
    "**mais detalhes sobre os argumentos do aws provider podem ser encontrados em https://registry.terraform.io/providers/hashicorp/aws/latest/docs**"
   ]
  },
  {
   "cell_type": "markdown",
   "metadata": {},
   "source": [
    "### state"
   ]
  },
  {
   "cell_type": "markdown",
   "metadata": {},
   "source": [
    "se trata de um \"snapshot\" de como estão os recursos atualmente\n",
    "\n",
    "**é armazenado no backend** que pode ser local ou remoto"
   ]
  },
  {
   "cell_type": "markdown",
   "metadata": {},
   "source": [
    "### backend"
   ]
  },
  {
   "cell_type": "markdown",
   "metadata": {},
   "source": [
    "local onde ocorre o armazenamento do historico de states da infraestrutura\n",
    "\n",
    "o arquivo tem como extensão **.tfstate**\n",
    "\n",
    "a configuração do backend pode ser feito como abaixo\n",
    "\n",
    "```terraform\n",
    "terraform {\n",
    "  backend \"s3\" {\n",
    "    bucket = \"mybucket\"\n",
    "    key    = \"path/to/my/key\"\n",
    "    region = \"us-east-1\"\n",
    "  }\n",
    "}\n",
    "```\n",
    "\n",
    "combinando com definição de providers dada anteriormente temos:\n",
    "\n",
    "```terraform\n",
    "terraform {\n",
    "  required_providers {\n",
    "    aws = {\n",
    "      source  = \"hashicorp/aws\"\n",
    "      version = \"~> 5.0\"\n",
    "    }\n",
    "  }\n",
    "\n",
    "  backend \"s3\" {\n",
    "    bucket = \"mybucket\"\n",
    "    key    = \"path/to/my/key\"\n",
    "    region = \"us-east-1\"\n",
    "  }\n",
    "}\n",
    "\n",
    "# Configure the AWS Provider\n",
    "provider \"aws\" {\n",
    "  region = \"us-east-1\"\n",
    "}\n",
    "```"
   ]
  },
  {
   "cell_type": "markdown",
   "metadata": {},
   "source": [
    "#### usando s3 como backend"
   ]
  },
  {
   "cell_type": "markdown",
   "metadata": {},
   "source": [
    "para usar o s3 como backend é necessário conceder permissões ao bucket que se deseja usar como armazenamento de states, se nao for feito usando workspaces, como por exemplo:\n",
    "\n",
    "+ s3:ListBucket\n",
    "\n",
    "+ s3:GetObject\n",
    "\n",
    "+ s3:PutObject"
   ]
  },
  {
   "cell_type": "markdown",
   "metadata": {},
   "source": [
    "### .tfstate"
   ]
  },
  {
   "cell_type": "markdown",
   "metadata": {},
   "source": [
    "### .terraform.lock.hcl"
   ]
  },
  {
   "cell_type": "markdown",
   "metadata": {},
   "source": [
    "denominado de **dependency lock file**\n",
    "\n",
    "tem como função fazer o armazenamento de metadados, como por exemplo configurações de providers, da infraestrutura de modo hasheado"
   ]
  },
  {
   "cell_type": "markdown",
   "metadata": {},
   "source": [
    "### .terraform/"
   ]
  },
  {
   "cell_type": "markdown",
   "metadata": {},
   "source": [
    "composta por:\n",
    "\n",
    "+ um arquivo README.md\n",
    "\n",
    "+ LICENSE\n",
    "\n",
    "+ CHANGELOG.md\n",
    "\n",
    "+ arquivos binários dos providers"
   ]
  },
  {
   "cell_type": "markdown",
   "metadata": {},
   "source": [
    "### .tfvars"
   ]
  },
  {
   "cell_type": "markdown",
   "metadata": {},
   "source": [
    "### main.tf"
   ]
  },
  {
   "cell_type": "markdown",
   "metadata": {},
   "source": [
    "### variables.tf"
   ]
  },
  {
   "cell_type": "markdown",
   "metadata": {},
   "source": [
    "### modules"
   ]
  },
  {
   "cell_type": "markdown",
   "metadata": {},
   "source": [
    "### output.tf"
   ]
  },
  {
   "cell_type": "markdown",
   "metadata": {},
   "source": [
    "## Componentes de um arquivo"
   ]
  },
  {
   "cell_type": "markdown",
   "metadata": {},
   "source": [
    "um arquivo terraform (.tf) é composto de blocks podendo eles serem dos seguintes tipos:\n",
    "\n",
    "+ resource\n",
    "\n",
    "+ data\n",
    "\n",
    "+ locals\n",
    "\n",
    "+ module"
   ]
  },
  {
   "cell_type": "markdown",
   "metadata": {},
   "source": [
    "### resource"
   ]
  },
  {
   "cell_type": "markdown",
   "metadata": {},
   "source": [
    "blocos como este sao usados na definição de recursos a serem criados no terraform\n",
    "\n",
    "eles possuem como estrutura a seguinte:\n",
    "\n",
    "```terraform\n",
    "resource \"<provider>_<recurso>\" \"<nome do recurso>\"  {\n",
    "        ...\n",
    "}\n",
    "```\n",
    "\n",
    "podemos referenciar um recurso passando parametros dele para outro recurso usando referencia implicita, isto é, quando fazemos uso da notação abaixo para \"linkar\" dois recursos sem declarar explicitamente (como feito quando usado depends_on)\n",
    "\n",
    "```terraform\n",
    "resource \"aws_instance\" \"ec2\" {\n",
    "        ...\n",
    "}\n",
    "\n",
    "resource \"aws_s3_bucket\" \"bucket\" {\n",
    "        x = aws_instance.ec2.name\n",
    "}\n",
    "```\n",
    "\n",
    "quando feita dependência implícita como no caso acima, ao executar `terraform apply` ou `terraform destroy`"
   ]
  },
  {
   "cell_type": "markdown",
   "metadata": {},
   "source": [
    "### data"
   ]
  },
  {
   "cell_type": "markdown",
   "metadata": {},
   "source": [
    "sao um tipos de resource que realiza somente a leitura de outros recursos, armazenando seu valor e permitindo a reutilização"
   ]
  },
  {
   "cell_type": "markdown",
   "metadata": {},
   "source": [
    "### locals"
   ]
  },
  {
   "cell_type": "markdown",
   "metadata": {},
   "source": [
    "sao variaveis que são acessiveis somente entro do arquivo tf onde são criadas, evitando repetição desnecessária e seguindo DRY (don't repeat yourself)"
   ]
  },
  {
   "cell_type": "markdown",
   "metadata": {},
   "source": [
    "### module"
   ]
  }
 ],
 "metadata": {
  "language_info": {
   "name": "python"
  }
 },
 "nbformat": 4,
 "nbformat_minor": 2
}
